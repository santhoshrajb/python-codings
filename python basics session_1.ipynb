{
 "cells": [
  {
   "cell_type": "code",
   "execution_count": 3,
   "id": "76d5ade1",
   "metadata": {},
   "outputs": [
    {
     "name": "stdout",
     "output_type": "stream",
     "text": [
      "hello world\n"
     ]
    }
   ],
   "source": [
    "print('hello world')"
   ]
  },
  {
   "cell_type": "code",
   "execution_count": 4,
   "id": "b156ebd6",
   "metadata": {},
   "outputs": [
    {
     "name": "stdout",
     "output_type": "stream",
     "text": [
      "hello world\n"
     ]
    }
   ],
   "source": [
    "print('hello world')"
   ]
  },
  {
   "cell_type": "code",
   "execution_count": null,
   "id": "462a9910",
   "metadata": {},
   "outputs": [],
   "source": []
  },
  {
   "cell_type": "code",
   "execution_count": 5,
   "id": "e53a5709",
   "metadata": {},
   "outputs": [
    {
     "name": "stdout",
     "output_type": "stream",
     "text": [
      "santhiosh raj b \n",
      " paris \n",
      " idly\n"
     ]
    }
   ],
   "source": [
    "print('santhiosh raj b \\n paris \\n idly')"
   ]
  },
  {
   "cell_type": "code",
   "execution_count": 6,
   "id": "e08ad3dc",
   "metadata": {
    "scrolled": true
   },
   "outputs": [
    {
     "name": "stdout",
     "output_type": "stream",
     "text": [
      "santhosh raj b \n",
      "paris\n",
      "idly\n"
     ]
    }
   ],
   "source": [
    "print('santhosh raj b ')\n",
    "print('paris')\n",
    "print('idly')"
   ]
  },
  {
   "cell_type": "code",
   "execution_count": 7,
   "id": "9549da24",
   "metadata": {},
   "outputs": [
    {
     "name": "stdout",
     "output_type": "stream",
     "text": [
      "11\n"
     ]
    }
   ],
   "source": [
    "a=6\n",
    "b=5\n",
    "c=a+b\n",
    "print(c)"
   ]
  },
  {
   "cell_type": "code",
   "execution_count": 9,
   "id": "8339e8e7",
   "metadata": {},
   "outputs": [
    {
     "name": "stdout",
     "output_type": "stream",
     "text": [
      "give5\n",
      "10\n"
     ]
    }
   ],
   "source": [
    "a=int(input(\"give\"))\n",
    "b=5\n",
    "c=a+b\n",
    "print(c)\n"
   ]
  },
  {
   "cell_type": "code",
   "execution_count": 16,
   "id": "3494463b",
   "metadata": {},
   "outputs": [
    {
     "name": "stdout",
     "output_type": "stream",
     "text": [
      "enter 15\n",
      "entert 25\n",
      "10\n"
     ]
    }
   ],
   "source": [
    "a=int(input('enter 1'))\n",
    "b=int(input('entert 2'))\n",
    "c=a+b\n",
    "print(c)"
   ]
  },
  {
   "cell_type": "code",
   "execution_count": 14,
   "id": "b8e037bf",
   "metadata": {},
   "outputs": [
    {
     "name": "stdout",
     "output_type": "stream",
     "text": [
      "<class 'str'>\n"
     ]
    }
   ],
   "source": [
    "print(type(c))\n"
   ]
  },
  {
   "cell_type": "code",
   "execution_count": 18,
   "id": "7b7f7269",
   "metadata": {},
   "outputs": [
    {
     "name": "stdout",
     "output_type": "stream",
     "text": [
      "give5\n",
      "give2\n",
      "add 7\n",
      "sub 3\n",
      "mul 10\n",
      "div 2.5\n",
      "floor 2\n",
      "mod 1\n"
     ]
    }
   ],
   "source": [
    "#arithmetic operator\n",
    "a=int(input(\"give\"))\n",
    "b=int(input(\"give\"))\n",
    "c=a+b\n",
    "d=a-b\n",
    "e=a*b\n",
    "f=a/b\n",
    "g=a//b\n",
    "h=a%b\n",
    "print('add',c)\n",
    "print('sub',d)\n",
    "print('mul',e)\n",
    "print('div',f)\n",
    "print('floor',g)\n",
    "print('mod',h)"
   ]
  },
  {
   "cell_type": "code",
   "execution_count": 26,
   "id": "af909e20",
   "metadata": {},
   "outputs": [
    {
     "name": "stdout",
     "output_type": "stream",
     "text": [
      "True\n",
      "False\n",
      "False\n",
      "True\n",
      "False\n",
      "True\n"
     ]
    }
   ],
   "source": [
    "#comparision operatior\n",
    "print(a>b)\n",
    "print(a<b)\n",
    "print(a==b)\n",
    "print(a!=b)\n",
    "print(a<=b)\n",
    "print(a>=b)"
   ]
  },
  {
   "cell_type": "code",
   "execution_count": 25,
   "id": "3b350d70",
   "metadata": {},
   "outputs": [
    {
     "name": "stdout",
     "output_type": "stream",
     "text": [
      "4.2\n"
     ]
    }
   ],
   "source": [
    "#assignment operator\n",
    "a=5\n",
    "a+=3\n",
    "a-=9\n",
    "a*=4\n",
    "a/=5\n",
    "a%=5 \n",
    "print(a)"
   ]
  },
  {
   "cell_type": "code",
   "execution_count": 1,
   "id": "1ac9c45a",
   "metadata": {},
   "outputs": [
    {
     "name": "stdout",
     "output_type": "stream",
     "text": [
      "True\n",
      "False\n"
     ]
    }
   ],
   "source": [
    "#logical statements\n",
    "a=8\n",
    "b=4\n",
    "print(a>b and a!=b)\n",
    "print(a<b or a==b)"
   ]
  },
  {
   "cell_type": "code",
   "execution_count": 3,
   "id": "fbd72022",
   "metadata": {},
   "outputs": [
    {
     "name": "stdout",
     "output_type": "stream",
     "text": [
      "enter the number51\n",
      "greater than 50\n"
     ]
    }
   ],
   "source": [
    "#condiotional statements\n",
    "a=int (input('enter the number'))\n",
    "if a>50:\n",
    "    print('greater than 50')"
   ]
  },
  {
   "cell_type": "code",
   "execution_count": null,
   "id": "7a110f8f",
   "metadata": {},
   "outputs": [],
   "source": [
    "a=int (input('enter the number'))\n",
    "b=int (input('enter the number'))\n",
    "if a+b>250:\n",
    "    print(\"i like roses\")"
   ]
  },
  {
   "cell_type": "code",
   "execution_count": 7,
   "id": "ddcd3fbe",
   "metadata": {},
   "outputs": [
    {
     "name": "stdout",
     "output_type": "stream",
     "text": [
      "enter the number5\n",
      "enter the number5\n",
      "sorry\n"
     ]
    }
   ],
   "source": [
    "a=int (input('enter the number'))\n",
    "b=int (input('enter the number'))\n",
    "if a+b>250:\n",
    "    print(\"i like roses\")\n",
    "else:\n",
    "    print('sorry')"
   ]
  },
  {
   "cell_type": "code",
   "execution_count": null,
   "id": "91d43b71",
   "metadata": {},
   "outputs": [],
   "source": []
  },
  {
   "cell_type": "code",
   "execution_count": null,
   "id": "ed3313d1",
   "metadata": {},
   "outputs": [],
   "source": []
  },
  {
   "cell_type": "code",
   "execution_count": null,
   "id": "87f46592",
   "metadata": {},
   "outputs": [],
   "source": []
  }
 ],
 "metadata": {
  "kernelspec": {
   "display_name": "Python 3 (ipykernel)",
   "language": "python",
   "name": "python3"
  },
  "language_info": {
   "codemirror_mode": {
    "name": "ipython",
    "version": 3
   },
   "file_extension": ".py",
   "mimetype": "text/x-python",
   "name": "python",
   "nbconvert_exporter": "python",
   "pygments_lexer": "ipython3",
   "version": "3.10.9"
  }
 },
 "nbformat": 4,
 "nbformat_minor": 5
}
