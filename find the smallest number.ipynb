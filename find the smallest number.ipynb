{
 "cells": [
  {
   "cell_type": "code",
   "execution_count": 2,
   "id": "4d9ec1cf",
   "metadata": {},
   "outputs": [
    {
     "name": "stdout",
     "output_type": "stream",
     "text": [
      "enter5\n",
      "enter1\n",
      "enter8\n",
      "b is smallest\n"
     ]
    }
   ],
   "source": [
    "#hw findthe least among 3 numbers\n",
    "a=int(input('enter'))\n",
    "b=int(input('enter'))\n",
    "c=int(input('enter'))\n",
    "if a>b:\n",
    "    if b>c:\n",
    "        print('c is smallest')\n",
    "    else:\n",
    "        print(\"b is smallest\")\n",
    "else:\n",
    "    if a>c:\n",
    "        print(\"c is smallest\")\n",
    "    else:\n",
    "        print('a is smallest')"
   ]
  },
  {
   "cell_type": "code",
   "execution_count": null,
   "id": "b8b5e389",
   "metadata": {},
   "outputs": [],
   "source": []
  }
 ],
 "metadata": {
  "kernelspec": {
   "display_name": "Python 3 (ipykernel)",
   "language": "python",
   "name": "python3"
  },
  "language_info": {
   "codemirror_mode": {
    "name": "ipython",
    "version": 3
   },
   "file_extension": ".py",
   "mimetype": "text/x-python",
   "name": "python",
   "nbconvert_exporter": "python",
   "pygments_lexer": "ipython3",
   "version": "3.10.9"
  }
 },
 "nbformat": 4,
 "nbformat_minor": 5
}
